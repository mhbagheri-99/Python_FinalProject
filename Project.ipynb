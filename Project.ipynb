{
  "cells": [
    {
      "cell_type": "markdown",
      "metadata": {
        "id": "view-in-github",
        "colab_type": "text"
      },
      "source": [
        "<a href=\"https://colab.research.google.com/github/mhbagheri-99/Python_FinalProject/blob/main/Project.ipynb\" target=\"_parent\"><img src=\"https://colab.research.google.com/assets/colab-badge.svg\" alt=\"Open In Colab\"/></a>"
      ]
    },
    {
      "cell_type": "markdown",
      "metadata": {
        "id": "dG_BK9jJEpYw"
      },
      "source": [
        "# Game of Life\n",
        "\n",
        "\n",
        "The [Game of Life](http://en.wikipedia.org/wiki/Conway's_Game_of_Life) (GoF) is a cellular automaton devised by the British mathematician John Horton Conway in 1970. The game is a zero-player game, meaning that its evolution is determined by its initial state, requiring no further input. One interacts with the Game of Life by creating an initial configuration and observing how it evolves, or, for advanced players, by creating patterns with particular properties.\n",
        "\n",
        "The universe of the Game of Life is an infinite two-dimensional orthogonal grid of square cells, each of which is in one of two possible states, live or dead. Every cell interacts with its eight neighbours, which are the cells that are directly horizontally, vertically, or diagonally adjacent. At each step in time, the following transitions occur:\n",
        "\n",
        "* Any live cell with fewer than two live neighbours dies, as if by underpopulation.\n",
        "* Any live cell with more than three live neighbours dies, as if by overcrowding.\n",
        "* Any live cell with two or three live neighbours lives, unchanged, to the next generation.\n",
        "* Any dead cell with exactly three live neighbours becomes a live cell.\n",
        "\n",
        "The initial pattern (generation 0) constitutes the \"seed\" of the system.\n",
        "Time is considered discrete, and each time step (sometimes called a tick), the previous rules are applied simultaneously to every cell in the grid; \"births\" and \"deaths\" are immediate.\n",
        "Each generation is a pure function of the previous generation alone.\n",
        "\n",
        "\n",
        "# Assignments\n",
        "\n",
        "* Begin by implementing the GoF's rules and create few examples with basic seeds in small dimensions. Hint: create `.gif` animations from sequences of still `.png` images\n",
        "* Implement examples of the three categories of patterns *still lifes*, *oscillators* and *spaceships* (check the [wiki link](http://en.wikipedia.org/wiki/Conway's_Game_of_Life))\n",
        "* Analyse the evolutions of these patterns in terms of frequency (the number of cycles required to return to the original configuration, if any), occupancy (how many alive cells there are at every step of the game), replication or heat (the average number of cells that change state at each generation), speed (if applicable), etc.\n",
        "* Increase the size of the GoF's world and play with more advanced and complex patterns"
      ]
    },
    {
      "cell_type": "markdown",
      "metadata": {
        "id": "Y_7TqzbJUAc7"
      },
      "source": [
        "Here we have defined the rules of GoF in our function that takes the grid (initial seed) and number of generations which is how many levels we want to proceed."
      ]
    },
    {
      "cell_type": "code",
      "execution_count": null,
      "metadata": {
        "id": "25qWwAHaEpYx"
      },
      "outputs": [],
      "source": [
        "import numpy as np\n",
        "import PIL as p\n",
        "from PIL import Image\n",
        "from IPython.display import Image, display\n",
        "\n",
        "def game_of_life(grid, num_generations):\n",
        "    generations = [grid]\n",
        "    for _ in range(num_generations):\n",
        "        # Create a copy of the current grid\n",
        "        next_grid = np.copy(grid)\n",
        "\n",
        "        # Iterate over each cell in the grid\n",
        "        for i in range(grid.shape[0]):\n",
        "            for j in range(grid.shape[1]):\n",
        "                # Count the number of live neighbors\n",
        "                live_neighbors = np.sum(grid[max(0, i-1):min(i+2, grid.shape[0]), max(0, j-1):min(j+2, grid.shape[1])]) - grid[i, j]\n",
        "\n",
        "                # Apply the rules of the Game of Life\n",
        "                if grid[i, j] == 1 and (live_neighbors < 2 or live_neighbors > 3):\n",
        "                    next_grid[i, j] = 0\n",
        "                elif grid[i, j] == 0 and live_neighbors == 3:\n",
        "                    next_grid[i, j] = 1\n",
        "\n",
        "        # Update the grid for the next generation\n",
        "        grid = next_grid\n",
        "        generations.append(grid)\n",
        "\n",
        "    return generations\n"
      ]
    },
    {
      "cell_type": "markdown",
      "metadata": {
        "id": "Id6cx7pMlwjE"
      },
      "source": [
        "Defined a function that takes the GoF function paramateres as well as necessary parameters to iterate and calculate the generations and save them as visual files (both .png and .gif)"
      ]
    },
    {
      "cell_type": "code",
      "execution_count": null,
      "metadata": {
        "id": "Wq1f38Jfluyp"
      },
      "outputs": [],
      "source": [
        "def visualize_and_save(pattern, num_generations, filename_prefix):\n",
        "    generations = game_of_life(pattern, num_generations)\n",
        "\n",
        "    # Export each generation as a .png image\n",
        "    for i, generation in enumerate(generations):\n",
        "        image = p.Image.fromarray((generation * 255).astype(np.uint8))\n",
        "        image.save(f'{filename_prefix}/result_generation_{i}.png')\n",
        "\n",
        "    # Create a sequence with .gif format\n",
        "    images = [p.Image.open(f'{filename_prefix}/result_generation_{i}.png') for i in range(len(generations))]\n",
        "    images[0].save(f'{filename_prefix}/result_animation.gif', format=\"GIF\", append_images=images[1:], save_all=True, duration=400, loop=0)\n",
        "\n",
        "    # Display the GIF\n",
        "    display(Image(filename=f'{filename_prefix}/result_animation.gif', width=500))\n"
      ]
    },
    {
      "cell_type": "markdown",
      "metadata": {
        "id": "ofwUw0tfUBYq"
      },
      "source": [
        "A very simple (blinking in this case) example with 10 iterations."
      ]
    },
    {
      "cell_type": "code",
      "execution_count": null,
      "metadata": {
        "colab": {
          "base_uri": "https://localhost:8080/",
          "height": 517
        },
        "id": "R5tgp2gaT57x",
        "outputId": "0f429398-08d2-46ed-c36e-8957f78ad22e"
      },
      "outputs": [
        {
          "output_type": "display_data",
          "data": {
            "image/gif": "[encoded data removed]",
            "text/plain": [
              "<IPython.core.display.Image object>"
            ]
          },
          "metadata": {
            "image/gif": {
              "width": 500
            }
          }
        }
      ],
      "source": [
        "# Example usage\n",
        "grid = np.array([[0, 0, 0, 0, 0],\n",
        "                 [0, 0, 1, 0, 0],\n",
        "                 [0, 0, 1, 0, 0],\n",
        "                 [0, 0, 1, 0, 0],\n",
        "                 [0, 0, 0, 0, 0]])\n",
        "\n",
        "visualize_and_save(grid,10,'grid')"
      ]
    },
    {
      "cell_type": "markdown",
      "metadata": {
        "id": "qjSp_k2wUCS7"
      },
      "source": [
        "Examples in *still lifes*, *oscillators* and *spaceships* categories:"
      ]
    },
    {
      "cell_type": "code",
      "execution_count": null,
      "metadata": {
        "id": "10VBva5UqwGj",
        "outputId": "03d34010-64d3-4135-c790-48644df73ee5",
        "colab": {
          "base_uri": "https://localhost:8080/",
          "height": 1000
        }
      },
      "outputs": [
        {
          "output_type": "stream",
          "name": "stdout",
          "text": [
            "Block:\n"
          ]
        },
        {
          "output_type": "display_data",
          "data": {
            "image/gif": "[encoded data removed]",
            "text/plain": [
              "<IPython.core.display.Image object>"
            ]
          },
          "metadata": {
            "image/gif": {
              "width": 500
            }
          }
        },
        {
          "output_type": "stream",
          "name": "stdout",
          "text": [
            "Beehive:\n"
          ]
        },
        {
          "output_type": "display_data",
          "data": {
            "image/gif": "[encoded data removed]",
            "text/plain": [
              "<IPython.core.display.Image object>"
            ]
          },
          "metadata": {
            "image/gif": {
              "width": 500
            }
          }
        },
        {
          "output_type": "stream",
          "name": "stdout",
          "text": [
            "Loaf:\n"
          ]
        },
        {
          "output_type": "display_data",
          "data": {
            "image/gif": "[encoded data removed]",
            "text/plain": [
              "<IPython.core.display.Image object>"
            ]
          },
          "metadata": {
            "image/gif": {
              "width": 500
            }
          }
        }
      ],
      "source": [
        "# https://conwaylife.com/wiki/Block\n",
        "block = np.array([[0,0,0,0],\n",
        "                  [0,1,1,0],\n",
        "                  [0,1,1,0],\n",
        "                  [0,0,0,0]])\n",
        "print(\"Block:\")\n",
        "visualize_and_save(block, 10, 'still_life/block')\n",
        "\n",
        "# https://conwaylife.com/wiki/Beehive\n",
        "beehive = np.array([[0,0,0,0,0,0],\n",
        "                    [0,0,1,1,0,0],\n",
        "                    [0,1,0,0,1,0],\n",
        "                    [0,0,1,1,0,0],\n",
        "                    [0,0,0,0,0,0]])\n",
        "print(\"Beehive:\")\n",
        "visualize_and_save(beehive, 10, 'still_life/beehive')\n",
        "\n",
        "# https://conwaylife.com/wiki/Loaf\n",
        "loaf = np.array([[0,0,0,0,0,0],\n",
        "                 [0,0,1,1,0,0],\n",
        "                 [0,1,0,0,1,0],\n",
        "                 [0,0,1,0,1,0],\n",
        "                 [0,0,0,1,0,0],\n",
        "                 [0,0,0,0,0,0]])\n",
        "print(\"Loaf:\")\n",
        "visualize_and_save(loaf, 10, 'still_life/loaf')\n",
        "\n",
        "\n"
      ]
    },
    {
      "cell_type": "code",
      "execution_count": null,
      "metadata": {
        "id": "D4UtcZLqqwGk",
        "outputId": "541dd7ff-2a4b-4b66-8709-81848a824157",
        "colab": {
          "base_uri": "https://localhost:8080/",
          "height": 1000
        }
      },
      "outputs": [
        {
          "output_type": "stream",
          "name": "stdout",
          "text": [
            "Blinker:\n"
          ]
        },
        {
          "output_type": "display_data",
          "data": {
            "image/gif": "[encoded data removed]",
            "text/plain": [
              "<IPython.core.display.Image object>"
            ]
          },
          "metadata": {
            "image/gif": {
              "width": 500
            }
          }
        },
        {
          "output_type": "stream",
          "name": "stdout",
          "text": [
            "Toad:\n"
          ]
        },
        {
          "output_type": "display_data",
          "data": {
            "image/gif": "[encoded data removed]",
            "text/plain": [
              "<IPython.core.display.Image object>"
            ]
          },
          "metadata": {
            "image/gif": {
              "width": 500
            }
          }
        },
        {
          "output_type": "stream",
          "name": "stdout",
          "text": [
            "Beacon:\n"
          ]
        },
        {
          "output_type": "display_data",
          "data": {
            "image/gif": "[encoded data removed]",
            "text/plain": [
              "<IPython.core.display.Image object>"
            ]
          },
          "metadata": {
            "image/gif": {
              "width": 500
            }
          }
        }
      ],
      "source": [
        "# https://conwaylife.com/wiki/Blinker\n",
        "blinker = np.array([[0,0,0,0,0],\n",
        "                    [0,0,1,0,0],\n",
        "                    [0,0,1,0,0],\n",
        "                    [0,0,1,0,0],\n",
        "                    [0,0,0,0,0]])\n",
        "print(\"Blinker:\")\n",
        "visualize_and_save(blinker, 10, 'oscillator/blinker')\n",
        "\n",
        "# https://conwaylife.com/wiki/Toad\n",
        "toad = np.array([[0,0,0,0,0,0],\n",
        "                 [0,0,0,0,0,0],\n",
        "                 [0,0,1,1,1,0],\n",
        "                 [0,1,1,1,0,0],\n",
        "                 [0,0,0,0,0,0],\n",
        "                 [0,0,0,0,0,0]])\n",
        "print(\"Toad:\")\n",
        "visualize_and_save(toad, 10, 'oscillator/toad')\n",
        "\n",
        "# https://conwaylife.com/wiki/Beacon\n",
        "beacon = np.array([[0,0,0,0,0,0],\n",
        "                   [0,1,1,0,0,0],\n",
        "                   [0,1,1,0,0,0],\n",
        "                   [0,0,0,1,1,0],\n",
        "                   [0,0,0,1,1,0],\n",
        "                   [0,0,0,0,0,0]])\n",
        "print(\"Beacon:\")\n",
        "visualize_and_save(beacon, 10, 'oscillator/beacon')\n"
      ]
    },
    {
      "cell_type": "markdown",
      "source": [
        "Function to expand the game space, gets the new grid size, the original pattern and an *(x,y)* coordinate to put the original pattern there."
      ],
      "metadata": {
        "id": "TFPnEEak4Ffi"
      }
    },
    {
      "cell_type": "code",
      "source": [
        "def expand_space(pattern, size, x, y):\n",
        "    expanded_matrix = np.zeros((size,size))\n",
        "    expanded_matrix[x:pattern.shape[0]+x,y:pattern.shape[1]+y] = pattern\n",
        "    return expanded_matrix"
      ],
      "metadata": {
        "id": "nOeGTkY4tXeV"
      },
      "execution_count": null,
      "outputs": []
    },
    {
      "cell_type": "code",
      "execution_count": null,
      "metadata": {
        "id": "CrUBMZjzqwGk",
        "outputId": "7d585d53-d7eb-4029-bdbd-1a3254e3aa2b",
        "colab": {
          "base_uri": "https://localhost:8080/",
          "height": 1000
        }
      },
      "outputs": [
        {
          "output_type": "stream",
          "name": "stdout",
          "text": [
            "Glider:\n"
          ]
        },
        {
          "output_type": "display_data",
          "data": {
            "image/gif": "[encoded data removed]",
            "text/plain": [
              "<IPython.core.display.Image object>"
            ]
          },
          "metadata": {
            "image/gif": {
              "width": 500
            }
          }
        },
        {
          "output_type": "stream",
          "name": "stdout",
          "text": [
            "LWSS:\n"
          ]
        },
        {
          "output_type": "display_data",
          "data": {
            "image/gif": "[encoded data removed]",
            "text/plain": [
              "<IPython.core.display.Image object>"
            ]
          },
          "metadata": {
            "image/gif": {
              "width": 500
            }
          }
        },
        {
          "output_type": "stream",
          "name": "stdout",
          "text": [
            "HWSS:\n"
          ]
        },
        {
          "output_type": "display_data",
          "data": {
            "image/gif": "[encoded data removed]",
            "text/plain": [
              "<IPython.core.display.Image object>"
            ]
          },
          "metadata": {
            "image/gif": {
              "width": 500
            }
          }
        }
      ],
      "source": [
        "\"\"\"\n",
        "This code defines three spaceships: glider, lwss, and mwss. Each spaceship is represented as a numpy array.\n",
        "The `visualize_and_save` function is called for each spaceship to visualize and save the spaceship pattern.\n",
        "\"\"\"\n",
        "\n",
        "# https://conwaylife.com/wiki/Glider\n",
        "glider =np.array(\n",
        "[\n",
        "    [0, 1, 0],\n",
        "    [0, 0, 1],\n",
        "    [1, 1, 1]\n",
        "])\n",
        "\n",
        "# https://conwaylife.com/wiki/Lightweight_spaceship\n",
        "lwss = np.array(\n",
        "[               [0, 1, 1, 1, 1],\n",
        "                [1, 0, 0, 0, 1],\n",
        "                [0, 0, 0, 0, 1],\n",
        "                [1, 0, 0, 1, 0]\n",
        "])\n",
        "\n",
        "# https://conwaylife.com/wiki/Heavyweight_spaceship\n",
        "hwss = np.array([[0, 0, 0, 1, 1, 0, 0],\n",
        "                 [0, 1, 0, 0, 0, 0, 1],\n",
        "                 [1, 0, 0, 0, 0, 0, 0],\n",
        "                 [1, 0, 0, 0, 0, 0, 1],\n",
        "                 [1, 1, 1, 1, 1, 1, 0]])\n",
        "\n",
        "\n",
        "print(\"Glider:\")\n",
        "visualize_and_save(expand_space(glider, 50, 5, 5), 20, 'spaceship/glider')\n",
        "print(\"LWSS:\")\n",
        "visualize_and_save(expand_space(lwss, 50, 5, 5), 20, 'spaceship/lwss')\n",
        "print(\"HWSS:\")\n",
        "visualize_and_save(expand_space(hwss, 50, 20, 40), 20, 'spaceship/hwss')"
      ]
    },
    {
      "cell_type": "markdown",
      "metadata": {
        "id": "Ax8oY4lCNk6E"
      },
      "source": [
        "**Some more complex patterns:**\n",
        "     \n",
        "     1. Gosper Glider Gun: https://conwaylife.com/wiki/Gosper_glider_gun"
      ]
    },
    {
      "cell_type": "code",
      "execution_count": null,
      "metadata": {
        "id": "ij32YzELNk6E",
        "outputId": "c3cce56d-72e3-491d-9e8d-db3af22e1ad9",
        "colab": {
          "base_uri": "https://localhost:8080/",
          "height": 517
        }
      },
      "outputs": [
        {
          "output_type": "display_data",
          "data": {
            "image/gif": "[encoded data removed]",
            "text/plain": [
              "<IPython.core.display.Image object>"
            ]
          },
          "metadata": {
            "image/gif": {
              "width": 500
            }
          }
        }
      ],
      "source": [
        "def gosper_glider_gun():\n",
        "    gun = np.zeros((11, 38), dtype=int)\n",
        "\n",
        "    gun[5][1] = gun[5][2] = 1\n",
        "    gun[6][1] = gun[6][2] = 1\n",
        "\n",
        "    gun[3][13] = gun[3][14] = 1\n",
        "    gun[4][12] = gun[4][16] = 1\n",
        "    gun[5][11] = gun[5][17] = 1\n",
        "    gun[6][11] = gun[6][15] = gun[6][17] = gun[6][18] = 1\n",
        "    gun[7][11] = gun[7][17] = 1\n",
        "    gun[8][12] = gun[8][16] = 1\n",
        "    gun[9][13] = gun[9][14] = 1\n",
        "\n",
        "    gun[1][25] = 1\n",
        "    gun[2][23] = gun[2][25] = 1\n",
        "    gun[3][21] = gun[3][22] = 1\n",
        "    gun[4][21] = gun[4][22] = 1\n",
        "    gun[5][21] = gun[5][22] = 1\n",
        "    gun[6][23] = gun[6][25] = 1\n",
        "    gun[7][25] = 1\n",
        "\n",
        "    gun[3][35] = gun[3][36] = 1\n",
        "    gun[4][35] = gun[4][36] = 1\n",
        "\n",
        "    return gun\n",
        "\n",
        "\n",
        "gosper_glider_gun_pattern = gosper_glider_gun()\n",
        "visualize_and_save(\n",
        "    expand_space(gosper_glider_gun_pattern, 100, (100 - gosper_glider_gun_pattern.shape[0]) // 2, (100 - gosper_glider_gun_pattern.shape[1]) // 2),\n",
        "    100, 'pattern_examples/gosper_glider_gun')"
      ]
    },
    {
      "cell_type": "markdown",
      "metadata": {
        "id": "leBw-twCNk6E"
      },
      "source": [
        "        2. Pulsar Oscillator: https://conwaylife.com/wiki/Pulsar"
      ]
    },
    {
      "cell_type": "code",
      "execution_count": null,
      "metadata": {
        "id": "YO-TCcnbNk6E",
        "outputId": "9a639d5c-56f8-44ed-b23c-b7f57d6298a0",
        "colab": {
          "base_uri": "https://localhost:8080/",
          "height": 517
        }
      },
      "outputs": [
        {
          "output_type": "display_data",
          "data": {
            "image/gif": "[encoded data removed]",
            "text/plain": [
              "<IPython.core.display.Image object>"
            ]
          },
          "metadata": {
            "image/gif": {
              "width": 500
            }
          }
        }
      ],
      "source": [
        "def pulsar_oscillator():\n",
        "    pulsar = np.zeros((15, 15), dtype=int)\n",
        "\n",
        "    pulsar[1,3:6] = pulsar[1,9:12] = 1\n",
        "    pulsar[6,3:6] = pulsar[6,9:12] = 1\n",
        "    pulsar[8,3:6] = pulsar[8,9:12] = 1\n",
        "    pulsar[13,3:6] = pulsar[13,9:12] = 1\n",
        "\n",
        "    pulsar[3:6,1] = pulsar[9:12,1] = 1\n",
        "    pulsar[3:6,6] = pulsar[9:12,6] = 1\n",
        "    pulsar[3:6,8] = pulsar[9:12,8] = 1\n",
        "    pulsar[3:6,13] = pulsar[9:12,13] = 1\n",
        "\n",
        "    return pulsar\n",
        "\n",
        "# Example usage\n",
        "pulsar_pattern = pulsar_oscillator()\n",
        "visualize_and_save(\n",
        "    expand_space(pulsar_pattern, 100, (100 - pulsar_pattern.shape[0]) // 2, (100 - pulsar_pattern.shape[1]) // 2),\n",
        "    50, 'pattern_examples/pulsar_oscillator')\n"
      ]
    },
    {
      "cell_type": "markdown",
      "metadata": {
        "id": "YdoeVoz1Nk6E"
      },
      "source": [
        "     3. Acorn Pattern: https://conwaylife.com/wiki/Acorn"
      ]
    },
    {
      "cell_type": "code",
      "execution_count": null,
      "metadata": {
        "id": "mAUjq0ZyNk6E",
        "outputId": "2c957253-62ea-4804-de76-ec4b9cb6d386",
        "colab": {
          "base_uri": "https://localhost:8080/",
          "height": 517
        }
      },
      "outputs": [
        {
          "output_type": "display_data",
          "data": {
            "image/gif": "[encoded data removed]",
            "text/plain": [
              "<IPython.core.display.Image object>"
            ]
          },
          "metadata": {
            "image/gif": {
              "width": 500
            }
          }
        }
      ],
      "source": [
        "def acorn():\n",
        "    acorn = np.zeros((7, 21), dtype=int)\n",
        "\n",
        "    acorn[0][1] = 1\n",
        "    acorn[1][3] = 1\n",
        "    acorn[2][0:2] = acorn[2][4:7] = 1\n",
        "\n",
        "    return acorn\n",
        "\n",
        "# Example usage\n",
        "acorn_pattern = acorn()\n",
        "visualize_and_save(\n",
        "    expand_space(acorn_pattern, 100, (100 - acorn_pattern.shape[0]) // 2, (100 - acorn_pattern.shape[1]) // 2),\n",
        "    300, 'pattern_examples/acorn_pattern')\n"
      ]
    },
    {
      "cell_type": "markdown",
      "source": [
        "Defined a function to analyze the pattern in a given number of iterations. We calculated\n",
        "1. the frequency (when original pattern and one of its generations are identical)\n",
        "2. occupancy which shows how many alive cells we have at each generation\n",
        "3. heat or replication which is calculated by averaging the number of changes in the state of cells in each consecutive generations by calculating and summing their XOR\n",
        "4. speed by a multiplier of \"c\" which is speed of life (light)\n",
        "\n",
        "One clever thing I did here was cutting out the active area of the game to be able to check if our periodic pattern is of spaceship type that helped me in knowing if it had the speed parameter or not.\n",
        "\n",
        "One thing is that this function analyzes the basics and most common things in a game, for more complex patterns that we have, there would be much more parameters that are very specific to each of their type, for example in acorn pattern we can calculate the lifespan and population which doesn't apply to the other patterns such as spaceships."
      ],
      "metadata": {
        "id": "7pAQSfrQ4gCC"
      }
    },
    {
      "cell_type": "code",
      "source": [
        "def analyze_evolution(pattern, num_generations):\n",
        "    generations = game_of_life(pattern, num_generations)\n",
        "\n",
        "    min_x, max_x, min_y, max_y = [], [], [], []\n",
        "    active_grid = []\n",
        "    is_spaceship = False\n",
        "\n",
        "    for i in range(len(generations)):\n",
        "      alive_cells = np.argwhere(generations[i] == 1)\n",
        "\n",
        "      min_x.append(np.min(alive_cells[:,0]))\n",
        "      max_x.append(np.max(alive_cells[:,0]))\n",
        "      min_y.append(np.min(alive_cells[:,1]))\n",
        "      max_y.append(np.max(alive_cells[:,1]))\n",
        "\n",
        "      active_grid.append(generations[i][min_x[i]:max_x[i]+1, min_y[i]:max_y[i]+1])\n",
        "\n",
        "    # Calculate frequency\n",
        "    frequency = None\n",
        "    for i in range(1, num_generations):\n",
        "      if np.array_equal(active_grid[0], active_grid[i]):\n",
        "          frequency = i\n",
        "          if min_x[0] != min_x[i] or min_y[0] != min_y[i]:\n",
        "            is_spaceship = True\n",
        "          break\n",
        "\n",
        "    # Calculate occupancy\n",
        "    occupancy = [np.sum(generation) for generation in generations]\n",
        "\n",
        "    # Calculate replication or heat\n",
        "    total_changes = 0\n",
        "    for i in range(num_generations-1):\n",
        "      total_changes += np.logical_xor(generations[i]==1, generations[i+1]==1).sum()\n",
        "\n",
        "    replication = np.abs(total_changes/(num_generations-1))\n",
        "\n",
        "    # Calculate speed (if applicable) according to https://conwaylife.com/wiki/Speed\n",
        "    speed = None\n",
        "    if is_spaceship:\n",
        "      speed = max(abs(min_x[frequency]-min_x[0]), abs(min_y[frequency]-min_y[0])) / frequency\n",
        "\n",
        "    return {\n",
        "        'frequency': frequency,\n",
        "        'occupancy': occupancy,\n",
        "        'replication': replication,\n",
        "        'speed (fraction of \"c\")': speed\n",
        "    }"
      ],
      "metadata": {
        "id": "dd-zkukctOFn"
      },
      "execution_count": null,
      "outputs": []
    },
    {
      "cell_type": "markdown",
      "source": [
        "Analysis of the Still Life Patterns:\n",
        "\n",
        "As we can see, they have the frequency of \"1\" which means their \"still life\" patterns and don't change at all."
      ],
      "metadata": {
        "id": "XDVFk0VBdmq8"
      }
    },
    {
      "cell_type": "code",
      "source": [
        "print(\"Block Analysis:\", analyze_evolution(block, 10))\n",
        "print(\"Beehive Analysis:\", analyze_evolution(beehive, 10))\n",
        "print(\"Loaf Analysis:\", analyze_evolution(loaf, 10))"
      ],
      "metadata": {
        "id": "y_32RLQTtSx6",
        "colab": {
          "base_uri": "https://localhost:8080/"
        },
        "outputId": "4d2665e8-b5c1-42b1-b75a-34e9387fc758"
      },
      "execution_count": null,
      "outputs": [
        {
          "output_type": "stream",
          "name": "stdout",
          "text": [
            "Block Analysis: {'frequency': 1, 'occupancy': [4, 4, 4, 4, 4, 4, 4, 4, 4, 4, 4], 'replication': 0.0, 'speed (fraction of \"c\")': None}\n",
            "Beehive Analysis: {'frequency': 1, 'occupancy': [6, 6, 6, 6, 6, 6, 6, 6, 6, 6, 6], 'replication': 0.0, 'speed (fraction of \"c\")': None}\n",
            "Loaf Analysis: {'frequency': 1, 'occupancy': [7, 7, 7, 7, 7, 7, 7, 7, 7, 7, 7], 'replication': 0.0, 'speed (fraction of \"c\")': None}\n"
          ]
        }
      ]
    },
    {
      "cell_type": "markdown",
      "source": [
        "Analysis of the Oscillator Patterns:"
      ],
      "metadata": {
        "id": "CBj9LZ7Hdv--"
      }
    },
    {
      "cell_type": "code",
      "source": [
        "print(\"Blinker Analysis:\", analyze_evolution(blinker, 10))\n",
        "print(\"Beacon Analysis:\", analyze_evolution(beacon, 10))\n",
        "print(\"Toad Analysis:\", analyze_evolution(toad, 10))"
      ],
      "metadata": {
        "colab": {
          "base_uri": "https://localhost:8080/"
        },
        "id": "rY2Wt8oodKdL",
        "outputId": "e049ee66-0129-4628-b21c-99417faac677"
      },
      "execution_count": null,
      "outputs": [
        {
          "output_type": "stream",
          "name": "stdout",
          "text": [
            "Blinker Analysis: {'frequency': 2, 'occupancy': [3, 3, 3, 3, 3, 3, 3, 3, 3, 3, 3], 'replication': 4.0, 'speed (fraction of \"c\")': None}\n",
            "Beacon Analysis: {'frequency': 2, 'occupancy': [8, 6, 8, 6, 8, 6, 8, 6, 8, 6, 8], 'replication': 2.0, 'speed (fraction of \"c\")': None}\n",
            "Toad Analysis: {'frequency': 2, 'occupancy': [6, 6, 6, 6, 6, 6, 6, 6, 6, 6, 6], 'replication': 8.0, 'speed (fraction of \"c\")': None}\n"
          ]
        }
      ]
    },
    {
      "cell_type": "markdown",
      "source": [
        "Analysis of the Spaceship Patterns:"
      ],
      "metadata": {
        "id": "nRlkW8e4eBXa"
      }
    },
    {
      "cell_type": "code",
      "source": [
        "print(\"Glider Analysis:\", analyze_evolution(expand_space(glider, 50, 5, 5), 20))\n",
        "print(\"LWSS Analysis:\", analyze_evolution(expand_space(lwss, 50, 5, 5), 20))\n",
        "print(\"HWSS Analysis:\", analyze_evolution(expand_space(hwss, 50, 20, 40), 20))"
      ],
      "metadata": {
        "colab": {
          "base_uri": "https://localhost:8080/"
        },
        "id": "-0hyIlCHdMce",
        "outputId": "b1c9856e-143a-4949-accd-ed931502e5be"
      },
      "execution_count": null,
      "outputs": [
        {
          "output_type": "stream",
          "name": "stdout",
          "text": [
            "Glider Analysis: {'frequency': 4, 'occupancy': [5.0, 5.0, 5.0, 5.0, 5.0, 5.0, 5.0, 5.0, 5.0, 5.0, 5.0, 5.0, 5.0, 5.0, 5.0, 5.0, 5.0, 5.0, 5.0, 5.0, 5.0], 'replication': 4.0, 'speed (fraction of \"c\")': 0.25}\n",
            "LWSS Analysis: {'frequency': 4, 'occupancy': [9.0, 12.0, 9.0, 12.0, 9.0, 12.0, 9.0, 12.0, 9.0, 12.0, 9.0, 12.0, 9.0, 12.0, 9.0, 12.0, 9.0, 12.0, 9.0, 12.0, 9.0], 'replication': 10.894736842105264, 'speed (fraction of \"c\")': 0.5}\n",
            "HWSS Analysis: {'frequency': 4, 'occupancy': [13.0, 18.0, 13.0, 18.0, 13.0, 18.0, 13.0, 18.0, 13.0, 18.0, 13.0, 18.0, 13.0, 18.0, 13.0, 18.0, 13.0, 18.0, 13.0, 18.0, 13.0], 'replication': 18.789473684210527, 'speed (fraction of \"c\")': 0.5}\n"
          ]
        }
      ]
    },
    {
      "cell_type": "markdown",
      "source": [
        "Gosper Glider Gun Analysis:"
      ],
      "metadata": {
        "id": "lYA8L43ovxxc"
      }
    },
    {
      "cell_type": "code",
      "source": [
        "print(\"Gosper Glider Gun Analysis:\", analyze_evolution(\n",
        "    expand_space(gosper_glider_gun_pattern, 100, (100 - gosper_glider_gun_pattern.shape[0]) // 2, (100 - gosper_glider_gun_pattern.shape[1]) // 2),\n",
        "    20))"
      ],
      "metadata": {
        "colab": {
          "base_uri": "https://localhost:8080/"
        },
        "id": "OSOQMM4WOALO",
        "outputId": "1a008ba2-5970-44b4-bef9-53c88fadf838"
      },
      "execution_count": null,
      "outputs": [
        {
          "output_type": "stream",
          "name": "stdout",
          "text": [
            "Gosper Glider Gun Analysis: {'frequency': None, 'occupancy': [36.0, 39.0, 43.0, 48.0, 51.0, 44.0, 51.0, 48.0, 61.0, 42.0, 48.0, 50.0, 54.0, 55.0, 56.0, 42.0, 44.0, 47.0, 53.0, 54.0, 54.0], 'replication': 37.05263157894737, 'speed (fraction of \"c\")': None}\n"
          ]
        }
      ]
    },
    {
      "cell_type": "markdown",
      "source": [
        "Pulsar Oscillator Analysis:"
      ],
      "metadata": {
        "id": "d8Zr1RKHv3Lj"
      }
    },
    {
      "cell_type": "code",
      "source": [
        "print(\"Pulsar Oscillator Analysis:\", analyze_evolution(\n",
        "    expand_space(pulsar_pattern, 100, (100 - pulsar_pattern.shape[0]) // 2, (100 - pulsar_pattern.shape[1]) // 2),\n",
        "    20))"
      ],
      "metadata": {
        "colab": {
          "base_uri": "https://localhost:8080/"
        },
        "id": "xaI9dVDZvtQ1",
        "outputId": "e0ea531e-44e4-4f5b-a433-055bcf4be65c"
      },
      "execution_count": null,
      "outputs": [
        {
          "output_type": "stream",
          "name": "stdout",
          "text": [
            "Pulsar Oscillator Analysis: {'frequency': 3, 'occupancy': [48.0, 56.0, 72.0, 48.0, 56.0, 72.0, 48.0, 56.0, 72.0, 48.0, 56.0, 72.0, 48.0, 56.0, 72.0, 48.0, 56.0, 72.0, 48.0, 56.0, 72.0], 'replication': 43.36842105263158, 'speed (fraction of \"c\")': None}\n"
          ]
        }
      ]
    },
    {
      "cell_type": "markdown",
      "source": [
        "Acorn Analysis:"
      ],
      "metadata": {
        "id": "v5Bsrfd0v7EP"
      }
    },
    {
      "cell_type": "code",
      "source": [
        "print(\"Acorn Analysis:\", analyze_evolution(\n",
        "    expand_space(acorn_pattern, 100, (100 - acorn_pattern.shape[0]) // 2, (100 - acorn_pattern.shape[1]) // 2),\n",
        "    20))"
      ],
      "metadata": {
        "colab": {
          "base_uri": "https://localhost:8080/"
        },
        "id": "Qvo2Gxa2vwD_",
        "outputId": "ad6c8b5b-6c27-4140-ea69-fa98c6edc6b6"
      },
      "execution_count": null,
      "outputs": [
        {
          "output_type": "stream",
          "name": "stdout",
          "text": [
            "Acorn Analysis: {'frequency': None, 'occupancy': [7.0, 8.0, 10.0, 11.0, 11.0, 13.0, 15.0, 15.0, 18.0, 20.0, 30.0, 19.0, 14.0, 17.0, 20.0, 24.0, 28.0, 28.0, 25.0, 29.0, 32.0], 'replication': 13.368421052631579, 'speed (fraction of \"c\")': None}\n"
          ]
        }
      ]
    }
  ],
  "metadata": {
    "colab": {
      "provenance": [],
      "include_colab_link": true
    },
    "kernelspec": {
      "display_name": "Python 3",
      "language": "python",
      "name": "python3"
    },
    "language_info": {
      "codemirror_mode": {
        "name": "ipython",
        "version": 3
      },
      "file_extension": ".py",
      "mimetype": "text/x-python",
      "name": "python",
      "nbconvert_exporter": "python",
      "pygments_lexer": "ipython3",
      "version": "3.11.4"
    }
  },
  "nbformat": 4,
  "nbformat_minor": 0
}